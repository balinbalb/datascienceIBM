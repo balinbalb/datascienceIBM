{
 "cells": [
  {
   "cell_type": "markdown",
   "id": "076c7739-5f89-41e3-9468-82c211a119f9",
   "metadata": {},
   "source": [
    "# DataScienceEcosystem"
   ]
  },
  {
   "cell_type": "markdown",
   "id": "277aef5a-e3a8-49ab-a2e1-ecc4dbed21ce",
   "metadata": {},
   "source": [
    "In this notebook, Data Science Tools and Ecosystem are summarized."
   ]
  },
  {
   "cell_type": "markdown",
   "id": "62a63f8e-408d-4957-9575-d94601c79e6b",
   "metadata": {},
   "source": [
    "__Objectives:__\n",
    "- List popular languages for Data Science\n",
    "- List commonly used libraries used by Data Scientists\n",
    "- development environment open source tools used in data science"
   ]
  },
  {
   "cell_type": "markdown",
   "id": "63c8a040-5ac6-4cf6-9dbf-55a1e904f07e",
   "metadata": {},
   "source": [
    "Some of the popular languages that Data Scientists use are:\n",
    "1. Python\n",
    "2. R\n",
    "3. Scala"
   ]
  },
  {
   "cell_type": "markdown",
   "id": "9bd6e4b6-66d0-47ce-8153-9a0695ab406e",
   "metadata": {},
   "source": [
    "Some of the commonly used libraries used by Data Scientists include:\n",
    "1. Pandas\n",
    "2. Matplotlib\n",
    "3. NumPy"
   ]
  },
  {
   "cell_type": "markdown",
   "id": "e2744f41-1cb4-4632-b76a-0988bd90ac3b",
   "metadata": {},
   "source": [
    "\n",
    "|Data Science Tools | \n",
    "|-------------------|\n",
    "|Weka|\n",
    "|Rstudio|\n",
    "|Apache Spark|\n",
    "\n"
   ]
  },
  {
   "cell_type": "markdown",
   "id": "116f8fed-5cb7-4a26-afa3-b7e8cec66599",
   "metadata": {},
   "source": [
    "### Below are a few examples of evaluating arithmetic expressions in Python"
   ]
  },
  {
   "cell_type": "code",
   "execution_count": 1,
   "id": "31eefd22-23ed-4da0-895b-133802374fcd",
   "metadata": {},
   "outputs": [
    {
     "data": {
      "text/plain": [
       "17"
      ]
     },
     "execution_count": 1,
     "metadata": {},
     "output_type": "execute_result"
    }
   ],
   "source": [
    "#This a simple arithmetic expression to mutiply then add integers\n",
    "\n",
    "(3*4)+5\n"
   ]
  },
  {
   "cell_type": "code",
   "execution_count": 2,
   "id": "33bf9178-a811-44b3-ac42-d3f816315566",
   "metadata": {},
   "outputs": [
    {
     "data": {
      "text/plain": [
       "3.3333333333333335"
      ]
     },
     "execution_count": 2,
     "metadata": {},
     "output_type": "execute_result"
    }
   ],
   "source": [
    "#This will convert 200 minutes to hours by diving by 60\n",
    "\n",
    "def minutesToHours(minutes):\n",
    "   return minutes/60\n",
    "\n",
    "minutesToHours(200)\n",
    "\n",
    "\n",
    "\n",
    "\n"
   ]
  },
  {
   "cell_type": "markdown",
   "id": "d2695e5f-d6bc-4537-96cc-bf94e0b52e8f",
   "metadata": {},
   "source": [
    "## Author\n",
    "Balazs Balint"
   ]
  },
  {
   "cell_type": "code",
   "execution_count": null,
   "id": "40ec06f5-b0e1-458a-a01c-5725b6134d07",
   "metadata": {},
   "outputs": [],
   "source": []
  }
 ],
 "metadata": {
  "kernelspec": {
   "display_name": "Python 3 (ipykernel)",
   "language": "python",
   "name": "python3"
  },
  "language_info": {
   "codemirror_mode": {
    "name": "ipython",
    "version": 3
   },
   "file_extension": ".py",
   "mimetype": "text/x-python",
   "name": "python",
   "nbconvert_exporter": "python",
   "pygments_lexer": "ipython3",
   "version": "3.10.9"
  }
 },
 "nbformat": 4,
 "nbformat_minor": 5
}
